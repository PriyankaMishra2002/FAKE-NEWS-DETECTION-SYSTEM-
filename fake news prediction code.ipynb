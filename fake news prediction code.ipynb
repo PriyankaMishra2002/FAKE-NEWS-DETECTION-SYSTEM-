{
 "cells": [
  {
   "cell_type": "code",
   "execution_count": 26,
   "id": "9f72f24a",
   "metadata": {},
   "outputs": [
    {
     "ename": "ModuleNotFoundError",
     "evalue": "No module named 'wordcloud'",
     "output_type": "error",
     "traceback": [
      "\u001b[1;31m---------------------------------------------------------------------------\u001b[0m",
      "\u001b[1;31mModuleNotFoundError\u001b[0m                       Traceback (most recent call last)",
      "Input \u001b[1;32mIn [26]\u001b[0m, in \u001b[0;36m<cell line: 12>\u001b[1;34m()\u001b[0m\n\u001b[0;32m     10\u001b[0m \u001b[38;5;28;01mimport\u001b[39;00m \u001b[38;5;21;01mseaborn\u001b[39;00m \u001b[38;5;28;01mas\u001b[39;00m \u001b[38;5;21;01msns\u001b[39;00m\n\u001b[0;32m     11\u001b[0m \u001b[38;5;28;01mimport\u001b[39;00m \u001b[38;5;21;01mnltk\u001b[39;00m \n\u001b[1;32m---> 12\u001b[0m \u001b[38;5;28;01mfrom\u001b[39;00m \u001b[38;5;21;01mwordcloud\u001b[39;00m \u001b[38;5;28;01mimport\u001b[39;00m WordCloud\n",
      "\u001b[1;31mModuleNotFoundError\u001b[0m: No module named 'wordcloud'"
     ]
    }
   ],
   "source": [
    "import sys \n",
    "\n",
    "import numpy as np\n",
    "import pandas as pd\n",
    "import matplotlib.pyplot as plt\n",
    "from sklearn.model_selection import train_test_split\n",
    "from sklearn.feature_extraction.text import TfidfVectorizer\n",
    "from sklearn.linear_model import LogisticRegression\n",
    "from sklearn.metrics import accuracy_score, confusion_matrix\n",
    "import seaborn as sns\n",
    "import nltk \n",
    "from wordcloud import WordCloud\n",
    "    "
   ]
  },
  {
   "cell_type": "code",
   "execution_count": 12,
   "id": "5e4129a4",
   "metadata": {},
   "outputs": [],
   "source": [
    "data = pd.read_csv('C:/Users/PRIYANKA/Fake news detection/code/fake_or_real_news.csv')\n",
    "data = data.drop(data.columns[[0, 1]], axis=1)"
   ]
  },
  {
   "cell_type": "code",
   "execution_count": 13,
   "id": "0bbc457a",
   "metadata": {
    "scrolled": true
   },
   "outputs": [
    {
     "name": "stdout",
     "output_type": "stream",
     "text": [
      "                                                   text label\n",
      "0     Daniel Greenfield, a Shillman Journalism Fello...  FAKE\n",
      "1     Google Pinterest Digg Linkedin Reddit Stumbleu...  FAKE\n",
      "2     U.S. Secretary of State John F. Kerry said Mon...  REAL\n",
      "3     — Kaydee King (@KaydeeKing) November 9, 2016 T...  FAKE\n",
      "4     It's primary day in New York and front-runners...  REAL\n",
      "...                                                 ...   ...\n",
      "6330  The State Department told the Republican Natio...  REAL\n",
      "6331  The ‘P’ in PBS Should Stand for ‘Plutocratic’ ...  FAKE\n",
      "6332   Anti-Trump Protesters Are Tools of the Oligar...  FAKE\n",
      "6333  ADDIS ABABA, Ethiopia —President Obama convene...  REAL\n",
      "6334  Jeb Bush Is Suddenly Attacking Trump. Here's W...  REAL\n",
      "\n",
      "[6335 rows x 2 columns]\n"
     ]
    }
   ],
   "source": [
    "print(data)"
   ]
  },
  {
   "cell_type": "code",
   "execution_count": 14,
   "id": "f5896173",
   "metadata": {},
   "outputs": [
    {
     "name": "stdout",
     "output_type": "stream",
     "text": [
      "(6335, 2)\n"
     ]
    }
   ],
   "source": [
    "print(data.shape)"
   ]
  },
  {
   "cell_type": "code",
   "execution_count": 20,
   "id": "9256a360",
   "metadata": {},
   "outputs": [
    {
     "name": "stderr",
     "output_type": "stream",
     "text": [
      "[nltk_data] Downloading package stopwords to\n",
      "[nltk_data]     C:\\Users\\priyanka\\AppData\\Roaming\\nltk_data...\n",
      "[nltk_data]   Package stopwords is already up-to-date!\n"
     ]
    }
   ],
   "source": [
    "nltk.download('stopwords')\n",
    "from nltk.corpus import stopwords\n",
    "stop = stopwords.words('english')\n",
    "\n",
    "data['text'] = data['text'].apply(lambda x: ' '.join([word for word in x.split() if word not in (stop)]))"
   ]
  },
  {
   "cell_type": "code",
   "execution_count": 21,
   "id": "14af4be6",
   "metadata": {},
   "outputs": [],
   "source": [
    "data.loc[data['label'] == 'FAKE', 'label',] = 0\n",
    "data.loc[data['label'] == 'REAL', 'label',] = 1\n"
   ]
  },
  {
   "cell_type": "code",
   "execution_count": 22,
   "id": "257d0a53",
   "metadata": {},
   "outputs": [],
   "source": [
    "X = data['text']\n",
    "Y = data['label']\n"
   ]
  },
  {
   "cell_type": "code",
   "execution_count": 23,
   "id": "f9e67640",
   "metadata": {},
   "outputs": [
    {
     "name": "stdout",
     "output_type": "stream",
     "text": [
      "0       Daniel Greenfield, Shillman Journalism Fellow ...\n",
      "1       Google Pinterest Digg Linkedin Reddit Stumbleu...\n",
      "2       U.S. Secretary State John F. Kerry said Monday...\n",
      "3       — Kaydee King (@KaydeeKing) November 9, 2016 T...\n",
      "4       It's primary day New York front-runners Hillar...\n",
      "                              ...                        \n",
      "6330    The State Department told Republican National ...\n",
      "6331    The ‘P’ PBS Should Stand ‘Plutocratic’ ‘Pentag...\n",
      "6332    Anti-Trump Protesters Are Tools Oligarchy Ref...\n",
      "6333    ADDIS ABABA, Ethiopia —President Obama convene...\n",
      "6334    Jeb Bush Is Suddenly Attacking Trump. Here's W...\n",
      "Name: text, Length: 6335, dtype: object\n"
     ]
    }
   ],
   "source": [
    "print(X) "
   ]
  },
  {
   "cell_type": "code",
   "execution_count": 24,
   "id": "67eefef9",
   "metadata": {},
   "outputs": [
    {
     "name": "stdout",
     "output_type": "stream",
     "text": [
      "0       0\n",
      "1       0\n",
      "2       1\n",
      "3       0\n",
      "4       1\n",
      "       ..\n",
      "6330    1\n",
      "6331    0\n",
      "6332    0\n",
      "6333    1\n",
      "6334    1\n",
      "Name: label, Length: 6335, dtype: object\n"
     ]
    }
   ],
   "source": [
    "print(Y)\n"
   ]
  },
  {
   "cell_type": "code",
   "execution_count": 27,
   "id": "0e9070dd",
   "metadata": {},
   "outputs": [
    {
     "ename": "NameError",
     "evalue": "name 'WordCloud' is not defined",
     "output_type": "error",
     "traceback": [
      "\u001b[1;31m---------------------------------------------------------------------------\u001b[0m",
      "\u001b[1;31mNameError\u001b[0m                                 Traceback (most recent call last)",
      "Input \u001b[1;32mIn [27]\u001b[0m, in \u001b[0;36m<cell line: 4>\u001b[1;34m()\u001b[0m\n\u001b[0;32m      1\u001b[0m fake_data \u001b[38;5;241m=\u001b[39m data[data[\u001b[38;5;124m\"\u001b[39m\u001b[38;5;124mlabel\u001b[39m\u001b[38;5;124m\"\u001b[39m] \u001b[38;5;241m==\u001b[39m \u001b[38;5;241m0\u001b[39m]\n\u001b[0;32m      2\u001b[0m all_words \u001b[38;5;241m=\u001b[39m \u001b[38;5;124m'\u001b[39m\u001b[38;5;124m \u001b[39m\u001b[38;5;124m'\u001b[39m\u001b[38;5;241m.\u001b[39mjoin([text \u001b[38;5;28;01mfor\u001b[39;00m text \u001b[38;5;129;01min\u001b[39;00m fake_data\u001b[38;5;241m.\u001b[39mtext])\n\u001b[1;32m----> 4\u001b[0m wordcloud \u001b[38;5;241m=\u001b[39m \u001b[43mWordCloud\u001b[49m(width\u001b[38;5;241m=\u001b[39m \u001b[38;5;241m800\u001b[39m, height\u001b[38;5;241m=\u001b[39m \u001b[38;5;241m500\u001b[39m,\n\u001b[0;32m      5\u001b[0m                           max_font_size \u001b[38;5;241m=\u001b[39m \u001b[38;5;241m110\u001b[39m,\n\u001b[0;32m      6\u001b[0m                           collocations \u001b[38;5;241m=\u001b[39m \u001b[38;5;28;01mFalse\u001b[39;00m)\u001b[38;5;241m.\u001b[39mgenerate(all_words)\n\u001b[0;32m      8\u001b[0m plt\u001b[38;5;241m.\u001b[39mfigure(figsize\u001b[38;5;241m=\u001b[39m(\u001b[38;5;241m10\u001b[39m,\u001b[38;5;241m7\u001b[39m))\n\u001b[0;32m      9\u001b[0m plt\u001b[38;5;241m.\u001b[39mimshow(wordcloud, interpolation\u001b[38;5;241m=\u001b[39m\u001b[38;5;124m'\u001b[39m\u001b[38;5;124mbilinear\u001b[39m\u001b[38;5;124m'\u001b[39m)\n",
      "\u001b[1;31mNameError\u001b[0m: name 'WordCloud' is not defined"
     ]
    }
   ],
   "source": [
    "fake_data = data[data[\"label\"] == 0]\n",
    "all_words = ' '.join([text for text in fake_data.text])\n",
    "\n",
    "wordcloud = WordCloud(width= 800, height= 500,\n",
    "                          max_font_size = 110,\n",
    "                          collocations = False).generate(all_words)\n",
    "\n",
    "plt.figure(figsize=(10,7))\n",
    "plt.imshow(wordcloud, interpolation='bilinear')\n",
    "plt.axis(\"off\")\n",
    "plt.show()"
   ]
  },
  {
   "cell_type": "code",
   "execution_count": 28,
   "id": "2b8c4d9f",
   "metadata": {},
   "outputs": [
    {
     "ename": "NameError",
     "evalue": "name 'WordCloud' is not defined",
     "output_type": "error",
     "traceback": [
      "\u001b[1;31m---------------------------------------------------------------------------\u001b[0m",
      "\u001b[1;31mNameError\u001b[0m                                 Traceback (most recent call last)",
      "Input \u001b[1;32mIn [28]\u001b[0m, in \u001b[0;36m<cell line: 4>\u001b[1;34m()\u001b[0m\n\u001b[0;32m      1\u001b[0m real_data \u001b[38;5;241m=\u001b[39m data[data[\u001b[38;5;124m\"\u001b[39m\u001b[38;5;124mlabel\u001b[39m\u001b[38;5;124m\"\u001b[39m] \u001b[38;5;241m==\u001b[39m \u001b[38;5;241m1\u001b[39m]\n\u001b[0;32m      2\u001b[0m all_words \u001b[38;5;241m=\u001b[39m \u001b[38;5;124m'\u001b[39m\u001b[38;5;124m \u001b[39m\u001b[38;5;124m'\u001b[39m\u001b[38;5;241m.\u001b[39mjoin([text \u001b[38;5;28;01mfor\u001b[39;00m text \u001b[38;5;129;01min\u001b[39;00m real_data\u001b[38;5;241m.\u001b[39mtext])\n\u001b[1;32m----> 4\u001b[0m wordcloud \u001b[38;5;241m=\u001b[39m \u001b[43mWordCloud\u001b[49m(width\u001b[38;5;241m=\u001b[39m \u001b[38;5;241m800\u001b[39m, height\u001b[38;5;241m=\u001b[39m \u001b[38;5;241m500\u001b[39m,\n\u001b[0;32m      5\u001b[0m                           max_font_size \u001b[38;5;241m=\u001b[39m \u001b[38;5;241m110\u001b[39m,\n\u001b[0;32m      6\u001b[0m                           collocations \u001b[38;5;241m=\u001b[39m \u001b[38;5;28;01mFalse\u001b[39;00m)\u001b[38;5;241m.\u001b[39mgenerate(all_words)\n\u001b[0;32m      8\u001b[0m plt\u001b[38;5;241m.\u001b[39mfigure(figsize\u001b[38;5;241m=\u001b[39m(\u001b[38;5;241m10\u001b[39m,\u001b[38;5;241m7\u001b[39m))\n\u001b[0;32m      9\u001b[0m plt\u001b[38;5;241m.\u001b[39mimshow(wordcloud, interpolation\u001b[38;5;241m=\u001b[39m\u001b[38;5;124m'\u001b[39m\u001b[38;5;124mbilinear\u001b[39m\u001b[38;5;124m'\u001b[39m)\n",
      "\u001b[1;31mNameError\u001b[0m: name 'WordCloud' is not defined"
     ]
    }
   ],
   "source": [
    "real_data = data[data[\"label\"] == 1]\n",
    "all_words = ' '.join([text for text in real_data.text])\n",
    "\n",
    "wordcloud = WordCloud(width= 800, height= 500,\n",
    "                          max_font_size = 110,\n",
    "                          collocations = False).generate(all_words)\n",
    "\n",
    "plt.figure(figsize=(10,7))\n",
    "plt.imshow(wordcloud, interpolation='bilinear')\n",
    "plt.axis(\"off\")\n",
    "plt.show()"
   ]
  },
  {
   "cell_type": "code",
   "execution_count": 29,
   "id": "774066c8",
   "metadata": {},
   "outputs": [],
   "source": [
    "X_train, X_test, Y_train, Y_test = train_test_split(X, Y, test_size=0.2, random_state=3)"
   ]
  },
  {
   "cell_type": "code",
   "execution_count": 30,
   "id": "adf21fa8",
   "metadata": {},
   "outputs": [],
   "source": [
    "# transform the text data to feature vectors that can be used as input to the Logistic regression\n",
    "\n",
    "feature_extraction = TfidfVectorizer(min_df = 1, stop_words='english', lowercase='True')\n",
    "\n",
    "X_train_features = feature_extraction.fit_transform(X_train)\n",
    "X_test_features = feature_extraction.transform(X_test)\n",
    "\n",
    "# convert Y_train and Y_test values as integers\n",
    "\n",
    "Y_train = Y_train.astype('int')\n",
    "Y_test = Y_test.astype('int')"
   ]
  },
  {
   "cell_type": "code",
   "execution_count": 31,
   "id": "416fb17f",
   "metadata": {},
   "outputs": [
    {
     "name": "stdout",
     "output_type": "stream",
     "text": [
      "  (0, 12497)\t0.022369862342906093\n",
      "  (0, 11719)\t0.014661513379175812\n",
      "  (0, 35529)\t0.021941550696159436\n",
      "  (0, 34470)\t0.023892632766417288\n",
      "  (0, 17464)\t0.02626652841781487\n",
      "  (0, 49177)\t0.04122975515788402\n",
      "  (0, 27447)\t0.018861656962008873\n",
      "  (0, 34732)\t0.038732067813905646\n",
      "  (0, 9859)\t0.01710259215241636\n",
      "  (0, 32486)\t0.01547250641855069\n",
      "  (0, 42273)\t0.018599948443274568\n",
      "  (0, 45325)\t0.013941460108745949\n",
      "  (0, 54002)\t0.031953766726989276\n",
      "  (0, 43626)\t0.030670933853333658\n",
      "  (0, 52578)\t0.030137002748817834\n",
      "  (0, 45154)\t0.02611607006406482\n",
      "  (0, 3363)\t0.02041034587017949\n",
      "  (0, 39222)\t0.030137002748817834\n",
      "  (0, 13895)\t0.017404883128646347\n",
      "  (0, 54139)\t0.015266861699586244\n",
      "  (0, 15270)\t0.03643398004818942\n",
      "  (0, 20094)\t0.022801569988675326\n",
      "  (0, 11616)\t0.022439218267217738\n",
      "  (0, 14172)\t0.021102947586452033\n",
      "  (0, 55688)\t0.020119350907887416\n",
      "  :\t:\n",
      "  (5067, 50671)\t0.029184961285029547\n",
      "  (5067, 41386)\t0.02916848124978431\n",
      "  (5067, 667)\t0.05863578501343069\n",
      "  (5067, 33110)\t0.018057234550285118\n",
      "  (5067, 42188)\t0.01933568856736131\n",
      "  (5067, 47505)\t0.022842234125552516\n",
      "  (5067, 31150)\t0.03368529705183845\n",
      "  (5067, 17804)\t0.0284259180950835\n",
      "  (5067, 42186)\t0.016211963598870782\n",
      "  (5067, 14968)\t0.04291128472226659\n",
      "  (5067, 11156)\t0.10776721249367448\n",
      "  (5067, 25536)\t0.0372704941046777\n",
      "  (5067, 42273)\t0.03444863787356621\n",
      "  (5067, 9318)\t0.02491223325618\n",
      "  (5067, 31212)\t0.029887843463234816\n",
      "  (5067, 20183)\t0.04378933093176783\n",
      "  (5067, 40240)\t0.014623456322921977\n",
      "  (5067, 41788)\t0.02803987571181179\n",
      "  (5067, 27267)\t0.021213031455903853\n",
      "  (5067, 31444)\t0.035217841688318104\n",
      "  (5067, 14303)\t0.022801387069973998\n",
      "  (5067, 15913)\t0.03246929081477215\n",
      "  (5067, 9194)\t0.02061747729440989\n",
      "  (5067, 15273)\t0.05492476221357615\n",
      "  (5067, 7003)\t0.023691433165986556\n"
     ]
    }
   ],
   "source": [
    "print(X_train_features)\n"
   ]
  },
  {
   "cell_type": "code",
   "execution_count": 32,
   "id": "9b0ad529",
   "metadata": {},
   "outputs": [
    {
     "data": {
      "text/plain": [
       "LogisticRegression()"
      ]
     },
     "execution_count": 32,
     "metadata": {},
     "output_type": "execute_result"
    }
   ],
   "source": [
    "model = LogisticRegression()\n",
    "model.fit(X_train_features, Y_train)"
   ]
  },
  {
   "cell_type": "code",
   "execution_count": 33,
   "id": "30bf89ef",
   "metadata": {},
   "outputs": [
    {
     "name": "stdout",
     "output_type": "stream",
     "text": [
      "Accuracy on training data :  0.9585635359116023\n"
     ]
    }
   ],
   "source": [
    "prediction_on_training_data = model.predict(X_train_features)\n",
    "accuracy_on_training_data = accuracy_score(Y_train, prediction_on_training_data)\n",
    "print('Accuracy on training data : ', accuracy_on_training_data)"
   ]
  },
  {
   "cell_type": "code",
   "execution_count": 34,
   "id": "d136b330",
   "metadata": {},
   "outputs": [
    {
     "name": "stdout",
     "output_type": "stream",
     "text": [
      "Accuracy on test data :  0.9273875295974744\n"
     ]
    }
   ],
   "source": [
    "prediction_on_test_data = model.predict(X_test_features)\n",
    "accuracy_on_test_data = accuracy_score(Y_test, prediction_on_test_data)\n",
    "print('Accuracy on test data : ', accuracy_on_test_data)"
   ]
  },
  {
   "cell_type": "code",
   "execution_count": 35,
   "id": "6f3bc710",
   "metadata": {},
   "outputs": [
    {
     "name": "stdout",
     "output_type": "stream",
     "text": [
      "[[609  29]\n",
      " [ 63 566]]\n"
     ]
    },
    {
     "data": {
      "image/png": "[encoded data removed]",
      "text/plain": [
       "<Figure size 432x288 with 2 Axes>"
      ]
     },
     "metadata": {
      "needs_background": "light"
     },
     "output_type": "display_data"
    }
   ],
   "source": [
    "y_pred = model.predict(X_test_features)\n",
    "cm = confusion_matrix(Y_test, y_pred)\n",
    "sns.heatmap(cm,annot = True,cmap = 'Reds') # plot CM for train data\n",
    "print(cm)"
   ]
  },
  {
   "cell_type": "code",
   "execution_count": 36,
   "id": "44f2cf2e",
   "metadata": {},
   "outputs": [
    {
     "name": "stdout",
     "output_type": "stream",
     "text": [
      "[609, 29, 63, 566]\n",
      "([<matplotlib.patches.Wedge object at 0x0000017B9C5EB100>, <matplotlib.patches.Wedge object at 0x0000017B9C5EB610>, <matplotlib.patches.Wedge object at 0x0000017B9C5EBAF0>, <matplotlib.patches.Wedge object at 0x0000017B9C5EBFD0>], [Text(0.1335657567463162, 2.1959417543789232, 'True Negative'), Text(-2.1972953471959844, 0.10905575267210021, 'False Positive'), Text(-2.165033674945343, -0.3906778549555435, 'False Negative'), Text(0.3664965316447805, -2.169258005008244, 'True Positive')])\n"
     ]
    },
    {
     "data": {
      "image/png": "[encoded data removed]",
      "text/plain": [
       "<Figure size 432x288 with 1 Axes>"
      ]
     },
     "metadata": {},
     "output_type": "display_data"
    }
   ],
   "source": [
    "list = cm.tolist()\n",
    "pielist = []\n",
    "for i in list:\n",
    "    for j in i:\n",
    "        pielist.append(j)\n",
    "print(pielist)\n",
    "df = pd.DataFrame(pielist)\n",
    "print(plt.pie(df[0], labels=['True Negative', 'False Positive', 'False Negative', 'True Positive'], radius=2))"
   ]
  },
  {
   "cell_type": "code",
   "execution_count": 37,
   "id": "85932004",
   "metadata": {},
   "outputs": [
    {
     "name": "stdout",
     "output_type": "stream",
     "text": [
      "[0]\n",
      "Fake news\n"
     ]
    }
   ],
   "source": [
    "input_mail = [\"Passengers in trouble as C Rly cancels Nagpur-Pune Garib Rath\"]\n",
    "\n",
    "# convert text to feature vectors\n",
    "input_data_features = feature_extraction.transform(input_mail)\n",
    "\n",
    "# making prediction\n",
    "\n",
    "prediction = model.predict(input_data_features)\n",
    "print(prediction)\n",
    "\n",
    "\n",
    "if (prediction[0]==1):\n",
    "  print('Real news')\n",
    "\n",
    "else:\n",
    "  print('Fake news')"
   ]
  },
  {
   "cell_type": "code",
   "execution_count": null,
   "id": "3f745ba1",
   "metadata": {},
   "outputs": [],
   "source": []
  }
 ],
 "metadata": {
  "kernelspec": {
   "display_name": "Python 3 (ipykernel)",
   "language": "python",
   "name": "python3"
  },
  "language_info": {
   "codemirror_mode": {
    "name": "ipython",
    "version": 3
   },
   "file_extension": ".py",
   "mimetype": "text/x-python",
   "name": "python",
   "nbconvert_exporter": "python",
   "pygments_lexer": "ipython3",
   "version": "3.9.12"
  }
 },
 "nbformat": 4,
 "nbformat_minor": 5
}
